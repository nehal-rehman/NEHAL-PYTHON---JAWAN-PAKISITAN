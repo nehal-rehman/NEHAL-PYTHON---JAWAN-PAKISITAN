{
 "cells": [
  {
   "cell_type": "code",
   "execution_count": 22,
   "metadata": {},
   "outputs": [
    {
     "name": "stdout",
     "output_type": "stream",
     "text": [
      "Twinkle, twinkle, little star, \n",
      "\tHow I wonder what you are! \n",
      "\t\tUp above the world so high, \n",
      "\t\tLike a diamond in the sky. \n",
      "Twinkle, twinkle, little star,\n",
      "\tHow I wonder what you are!\n"
     ]
    }
   ],
   "source": [
    "#1. Write a Python program to print the following string in a specific format (see the output).\n",
    "\n",
    "#Twinkle, twinkle, little star,\n",
    "    #How I wonder what you are!\n",
    "        #Up above the world so high,\n",
    "        #Like a diamond in the sky.\n",
    "#Twinkle, twinkle, little star,\n",
    "    #How I wonder what you are //\n",
    "\n",
    "\n",
    "print(\"Twinkle, twinkle, little star, \\n\\tHow I wonder what you are! \\n\\t\\tUp above the world so high, \\n\\t\\tLike a diamond in the sky. \\nTwinkle, twinkle, little star,\\n\\tHow I wonder what you are!\")"
   ]
  },
  {
   "cell_type": "code",
   "execution_count": 23,
   "metadata": {},
   "outputs": [
    {
     "name": "stdout",
     "output_type": "stream",
     "text": [
      "Python version\n",
      "3.7.3 (default, Mar 27 2019, 17:13:21) [MSC v.1915 64 bit (AMD64)]\n",
      "Version info.\n",
      "sys.version_info(major=3, minor=7, micro=3, releaselevel='final', serial=0)\n"
     ]
    }
   ],
   "source": [
    "#2. Write a Python program to get the Python version you are using\n",
    "\n",
    "import sys\n",
    "print(\"Python version\")\n",
    "print (sys.version)\n",
    "print(\"Version info.\")\n",
    "print (sys.version_info)"
   ]
  },
  {
   "cell_type": "code",
   "execution_count": 3,
   "metadata": {},
   "outputs": [
    {
     "name": "stdout",
     "output_type": "stream",
     "text": [
      "Current date and time : \n",
      "2021-10-24 16:26:47\n"
     ]
    }
   ],
   "source": [
    "#3. Write a Python program to display the current date and time. \n",
    "\n",
    "import datetime\n",
    "now = datetime.datetime.now()\n",
    "print (\"Current date and time : \")\n",
    "print (now.strftime(\"%Y-%m-%d %H:%M:%S\"))"
   ]
  },
  {
   "cell_type": "code",
   "execution_count": 4,
   "metadata": {},
   "outputs": [
    {
     "name": "stdout",
     "output_type": "stream",
     "text": [
      "Input the radius of the circle : 3\n",
      "The area of the circle with radius 3.0 is: 28.274333882308138\n"
     ]
    }
   ],
   "source": [
    "#4. Write a Python program which accepts the radius of a circle from the user and compute the area. \n",
    "\n",
    "from math import pi\n",
    "r = float(input (\"Input the radius of the circle : \"))\n",
    "print (\"The area of the circle with radius \" + str(r) + \" is: \" + str(pi * r**2))"
   ]
  },
  {
   "cell_type": "code",
   "execution_count": 5,
   "metadata": {},
   "outputs": [
    {
     "name": "stdout",
     "output_type": "stream",
     "text": [
      "Input your First Name : NEHAL\n",
      "Input your Last Name : ABDUL REHMAN\n",
      "Hello  ABDUL REHMAN NEHAL\n"
     ]
    }
   ],
   "source": [
    "#5. Write a Python program which accepts the user's first and last name and print them in reverse order with a space between them. \n",
    "\n",
    "fname = input(\"Input your First Name : \")\n",
    "lname = input(\"Input your Last Name : \")\n",
    "print (\"Hello  \" + lname + \" \" + fname)"
   ]
  },
  {
   "cell_type": "code",
   "execution_count": 6,
   "metadata": {},
   "outputs": [
    {
     "name": "stdout",
     "output_type": "stream",
     "text": [
      "enter first number: 22\n",
      "enter second number: 35\n",
      "sum: 57\n"
     ]
    }
   ],
   "source": [
    "#6. Write a python program which takes two inputs from user and print them addition \n",
    "\n",
    "a = int(input(\"enter first number: \"))\n",
    "b = int(input(\"enter second number: \"))\n",
    " \n",
    "sum = a + b\n",
    " \n",
    "print(\"sum:\", sum)"
   ]
  },
  {
   "cell_type": "code",
   "execution_count": 7,
   "metadata": {},
   "outputs": [
    {
     "name": "stdout",
     "output_type": "stream",
     "text": [
      "enter English subject marks: 99\n",
      "enter Islamiyat subject marks: 87\n",
      "enter Maths subject marks: 91\n",
      "enter Science subject marks: 96\n",
      "enter Urdu subject marks: 79\n",
      "Percentage= 90.4\n",
      "Grade A+\n"
     ]
    }
   ],
   "source": [
    "#7. Write a program which takes 5 inputs from user for different subject’s marks, total it and generate mark sheet using grades ? \n",
    "\n",
    "English=int(input(\"enter English subject marks: \"))\n",
    "Islamiyat=int(input(\"enter Islamiyat subject marks: \"))\n",
    "Maths=int(input(\"enter Maths subject marks: \"));\n",
    "Science=int(input(\"enter Science subject marks: \"))\n",
    "Urdu=int(input(\"enter Urdu subject marks: \"))\n",
    "Total=500; \n",
    "Obtain=English+Islamiyat+Maths+Science+Urdu; \n",
    "Percentage=(Obtain/Total)*100; \n",
    "print(\"Percentage=\",Percentage); \n",
    "if Percentage<100 and Percentage>80: \n",
    "    print(\"Grade A+\"); \n",
    "elif Percentage<80 and Percentage>70: \n",
    "        print(\"Grade A\"); \n",
    "elif Percentage<70 and Percentage>60: \n",
    "        print(\"Grade 8\"); \n",
    "else: print(\"Grade Fail\"); "
   ]
  },
  {
   "cell_type": "code",
   "execution_count": 20,
   "metadata": {},
   "outputs": [
    {
     "name": "stdout",
     "output_type": "stream",
     "text": [
      "enter any numbers: 32\n",
      "It's an Even number\n"
     ]
    }
   ],
   "source": [
    "#8. Write a program which take input from user and identify that the given number is even or odd? \n",
    "\n",
    "find=int(input(\"enter any numbers: \"))\n",
    "x=find%2\n",
    "if x==0:\n",
    "    print(\"It's an Even number\")\n",
    "else:\n",
    "    print(\"It's a Odd number\")"
   ]
  },
  {
   "cell_type": "code",
   "execution_count": 25,
   "metadata": {},
   "outputs": [
    {
     "name": "stdout",
     "output_type": "stream",
     "text": [
      "Number of items in the list =  9\n"
     ]
    }
   ],
   "source": [
    "#9. Write a program which print the length of the list?\n",
    "\n",
    "ListElements = [\"JAWAN\", \"PAKISTAN\", \"MUHAMMAD\", \"ALI\", \"MUGHAL\", 24, \"OCT\", 2021, \"NEHAL\"]\n",
    "print (\"Number of items in the list = \", len(ListElements))"
   ]
  },
  {
   "cell_type": "code",
   "execution_count": 31,
   "metadata": {},
   "outputs": [
    {
     "name": "stdout",
     "output_type": "stream",
     "text": [
      "The sum of the integers in the list is 45\n"
     ]
    }
   ],
   "source": [
    "#10. Write a Python program to sum all the numeric items in a list?\n",
    "\n",
    "def sum_list(items):\n",
    "    sum_numbers = 0\n",
    "    for num in items:\n",
    "        sum_numbers += num\n",
    "    return sum_numbers\n",
    "print(\"The sum of the integers in the list is\", sum_list([11,92,-58]))"
   ]
  },
  {
   "cell_type": "code",
   "execution_count": 30,
   "metadata": {},
   "outputs": [
    {
     "name": "stdout",
     "output_type": "stream",
     "text": [
      "17\n"
     ]
    }
   ],
   "source": [
    "#11. Write a Python program to get the largest number from a numeric list. \n",
    "\n",
    "def max_num_in_list( list ):\n",
    "    max = list[ 0 ]\n",
    "    for y in list:\n",
    "        if y > max:\n",
    "            max = y\n",
    "    return max\n",
    "print(\"The largest number in the list is\",max_num_in_list([17, 2, -8, 0]))"
   ]
  },
  {
   "cell_type": "code",
   "execution_count": 43,
   "metadata": {},
   "outputs": [
    {
     "name": "stdout",
     "output_type": "stream",
     "text": [
      "1\n",
      "1\n",
      "2\n",
      "3\n",
      "[1, 1, 2, 3]\n"
     ]
    }
   ],
   "source": [
    "#12. Take a list, say for example this one:\n",
    "\n",
    "# a = [1, 1, 2, 3, 5, 8, 13, 21, 34, 55, 89]\n",
    "# Write a program that prints out all the elements of the list that are less than 5. \n",
    "\n",
    "a = [1, 1, 2, 3, 5, 8, 13, 21, 34, 55, 89]\n",
    "for i in a:\n",
    "    if i < 5:\n",
    "        print(i)\n",
    "        \n",
    "# For presenting the numbers in a list\n",
    "b = []\n",
    "for i in a:\n",
    "    if i < 5:\n",
    "        b.append(i)\n",
    "print(b)"
   ]
  },
  {
   "cell_type": "code",
   "execution_count": null,
   "metadata": {},
   "outputs": [],
   "source": []
  }
 ],
 "metadata": {
  "kernelspec": {
   "display_name": "Python 3",
   "language": "python",
   "name": "python3"
  },
  "language_info": {
   "codemirror_mode": {
    "name": "ipython",
    "version": 3
   },
   "file_extension": ".py",
   "mimetype": "text/x-python",
   "name": "python",
   "nbconvert_exporter": "python",
   "pygments_lexer": "ipython3",
   "version": "3.7.3"
  }
 },
 "nbformat": 4,
 "nbformat_minor": 2
}
